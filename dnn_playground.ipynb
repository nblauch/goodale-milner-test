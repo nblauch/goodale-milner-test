{
 "cells": [
  {
   "cell_type": "code",
   "execution_count": 4,
   "metadata": {},
   "outputs": [],
   "source": [
    "curr_dir = '/user_data/vayzenbe/GitHub_Repos/ml'\n",
    "import pandas as pd\n",
    "import numpy as np\n",
    "import matplotlib.pyplot as plt\n",
    "import seaborn as sns\n",
    "\n",
    "import sys\n",
    "vone_dir = '/user_data/vayzenbe/GitHub_Repos/vonenet'\n",
    "cornet_dir = '/user_data/vayzenbe/GitHub_Repos/CORnet'\n",
    "\n",
    "sys.path.insert(1, vone_dir)\n",
    "sys.path.insert(1, cornet_dir)\n",
    "import vonenet\n",
    "import cornet\n",
    "\n",
    "import torch\n",
    "\n",
    "import torch.nn as nn\n",
    "import torchvision\n",
    "import load_stim\n"
   ]
  },
  {
   "cell_type": "code",
   "execution_count": 11,
   "metadata": {},
   "outputs": [],
   "source": [
    "stim_dir = f'{curr_dir}/stim'\n",
    "\n",
    "model = cornet.get_model('z', pretrained=True, map_location=torch.device('cpu')).module\n",
    "layer_call = \"getattr(getattr(model,'decoder'),'avgpool')\"\n",
    "\n",
    "transform = torchvision.transforms.Compose([\n",
    "                torchvision.transforms.Resize(256),\n",
    "                torchvision.transforms.CenterCrop(224),\n",
    "                torchvision.transforms.ToTensor(),\n",
    "                torchvision.transforms.Normalize(mean=[0.5, 0.5, 0.5],\n",
    "                                                 std=[0.5, 0.5, 0.5]),\n",
    "            ])"
   ]
  },
  {
   "cell_type": "code",
   "execution_count": 12,
   "metadata": {},
   "outputs": [],
   "source": [
    "def extract_acts(model, image_dir, transform, layer_call):\n",
    "    print('extracting features...')\n",
    "    \n",
    "\n",
    "    #set up hook to specified layer\n",
    "    def _store_feats(layer, inp, output):\n",
    "        \"\"\"An ugly but effective way of accessing intermediate model features\n",
    "        \"\"\"\n",
    "        #avgpool = nn.AdaptiveAvgPool2d(output_size=(1,768))\n",
    "        #output = avgpool(output)\n",
    "        \n",
    "\n",
    "        output = output.cpu().numpy()\n",
    "        \n",
    "        _model_feats.append(np.reshape(output, (len(output), -1)))\n",
    "\n",
    "    try:\n",
    "        m = model.module\n",
    "    except:\n",
    "        m = model\n",
    "    #model_layer = getattr(getattr(m, layer), sublayer)\n",
    "    model_layer = eval(layer_call)\n",
    "    model_layer.register_forward_hook(_store_feats)\n",
    "\n",
    "\n",
    "\n",
    "    #Iterate through each image and extract activations\n",
    "\n",
    "    imNum = 0\n",
    "    n=0\n",
    "\n",
    "    \n",
    "\n",
    "    \n",
    "    test_dataset = load_stim.load_stim(image_dir, transform=transform)\n",
    "    testloader = torch.utils.data.DataLoader(test_dataset, batch_size=8, shuffle=False, num_workers = 4, pin_memory=True)\n",
    "    \n",
    "\n",
    "\n",
    "    with torch.no_grad():\n",
    "        \n",
    "        for data, _ in testloader:\n",
    "            # move tensors to GPU if CUDA is available\n",
    "            \n",
    "            #data= data.cuda()\n",
    "            \n",
    "            _model_feats = []\n",
    "            model(data)\n",
    "            #output = model(data)\n",
    "            \n",
    "            out = np.vstack(_model_feats)\n",
    "            \n",
    "\n",
    "            if n == 0:\n",
    "                acts = out\n",
    "                #label_list = label\n",
    "            else:\n",
    "                acts= np.append(acts, out,axis = 0)\n",
    "                #label_list = np.append(label_list, label)\n",
    "                \n",
    "            \n",
    "            n = n + 1\n",
    "\n",
    "    return acts"
   ]
  },
  {
   "cell_type": "code",
   "execution_count": 13,
   "metadata": {},
   "outputs": [
    {
     "name": "stdout",
     "output_type": "stream",
     "text": [
      "extracting features...\n"
     ]
    }
   ],
   "source": [
    "acts = extract_acts(model, stim_dir, transform, layer_call)"
   ]
  },
  {
   "cell_type": "code",
   "execution_count": 16,
   "metadata": {},
   "outputs": [],
   "source": [
    "#create correlation matrix for activations\n",
    "corr = np.corrcoef(acts)"
   ]
  },
  {
   "cell_type": "code",
   "execution_count": 17,
   "metadata": {},
   "outputs": [
    {
     "data": {
      "text/plain": [
       "(8, 8)"
      ]
     },
     "execution_count": 17,
     "metadata": {},
     "output_type": "execute_result"
    }
   ],
   "source": [
    "corr.shape"
   ]
  },
  {
   "cell_type": "code",
   "execution_count": 23,
   "metadata": {},
   "outputs": [
    {
     "data": {
      "image/png": "[encoded data removed]",
      "text/plain": [
       "<Figure size 640x480 with 2 Axes>"
      ]
     },
     "metadata": {},
     "output_type": "display_data"
    }
   ],
   "source": [
    "sns.heatmap(corr, cbar=True)\n",
    "\n",
    "#remove axis labels\n",
    "plt.xticks([])\n",
    "plt.yticks([])\n",
    "\n",
    "#remove tick lines\n",
    "plt.tick_params(left=False, bottom=False)\n",
    "\n",
    "#make square\n",
    "plt.gca().set_aspect('equal', adjustable='box')\n",
    "\n",
    "\n",
    "#save figure\n",
    "plt.savefig('corr_matrix.png', dpi=300, bbox_inches='tight')\n"
   ]
  },
  {
   "cell_type": "code",
   "execution_count": 20,
   "metadata": {},
   "outputs": [
    {
     "data": {
      "image/png": "[encoded data removed]",
      "text/plain": [
       "<Figure size 640x480 with 2 Axes>"
      ]
     },
     "metadata": {},
     "output_type": "display_data"
    }
   ],
   "source": [
    "\n",
    "\n",
    "#create heatmap with seaborn\n",
    "#add linse between cells\n",
    "ax = sns.heatmap(acts, linewidths=1, cmap='jet', linecolor='black')\n"
   ]
  },
  {
   "cell_type": "code",
   "execution_count": null,
   "metadata": {},
   "outputs": [],
   "source": []
  }
 ],
 "metadata": {
  "kernelspec": {
   "display_name": "ml_new",
   "language": "python",
   "name": "python3"
  },
  "language_info": {
   "codemirror_mode": {
    "name": "ipython",
    "version": 3
   },
   "file_extension": ".py",
   "mimetype": "text/x-python",
   "name": "python",
   "nbconvert_exporter": "python",
   "pygments_lexer": "ipython3",
   "version": "3.9.13"
  },
  "orig_nbformat": 4,
  "vscode": {
   "interpreter": {
    "hash": "5019f625d8cef7bf561ee867ce6ef83187ba244587e1135dd2819ee04470ac03"
   }
  }
 },
 "nbformat": 4,
 "nbformat_minor": 2
}
